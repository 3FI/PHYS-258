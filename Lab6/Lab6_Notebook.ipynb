{
 "cells": [
  {
   "cell_type": "code",
   "execution_count": 104,
   "metadata": {},
   "outputs": [],
   "source": [
    "import uncertainties as unc  \n",
    "import uncertainties.unumpy as unumpy  \n",
    "import numpy as np\n",
    "import matplotlib.pyplot as plt\n",
    "import scipy.optimize as optimize"
   ]
  },
  {
   "cell_type": "code",
   "execution_count": 105,
   "metadata": {},
   "outputs": [],
   "source": [
    "from scipy.stats import poisson\n",
    "#fig, ax = plt.subplots(1, 1)\n",
    "#mu = 0.6\n",
    "#mean, var, skew, kurt = poisson.stats(mu, moments='mvsk')\n",
    "#x = np.arange(poisson.ppf(0.01, mu),\n",
    "#              poisson.ppf(0.99, mu))\n",
    "#ax.plot(x, poisson.pmf(x, mu), 'bo', ms=8, label='poisson pmf')\n",
    "#ax.vlines(x, 0, poisson.pmf(x, mu), colors='b', lw=5, alpha=0.5)\n",
    "#v = poisson(mu)\n",
    "#ax.vlines(x, 0, rv.pmf(x), colors='k', linestyles='-', lw=1,\n",
    "#        label='frozen pmf')\n",
    "#ax.legend(loc='best', frameon=False)\n",
    "#plt.show()\n",
    "#prob = poisson.cdf(x, mu)\n",
    "#np.allclose(x, poisson.ppf(prob, mu))"
   ]
  },
  {
   "cell_type": "code",
   "execution_count": 112,
   "metadata": {},
   "outputs": [
    {
     "name": "stdout",
     "output_type": "stream",
     "text": [
      "[4.25925926e-03 4.44444444e-02 1.24592593e-01 8.65185185e-02\n",
      " 8.14444444e-02 2.36666667e-02 3.88888889e-03 1.37037037e-03\n",
      " 1.48148148e-04 3.70370370e-05]\n",
      "[ 1.  4.  7. 10. 13. 16. 19. 22. 25. 28.]\n",
      "[8.87278206 3.66864411]\n",
      "[0.4871613  0.39870337]\n"
     ]
    },
    {
     "data": {
      "text/plain": [
       "[<matplotlib.lines.Line2D at 0x19996454790>]"
      ]
     },
     "execution_count": 112,
     "metadata": {},
     "output_type": "execute_result"
    },
    {
     "data": {
      "image/png": "[encoded data removed]",
      "text/plain": [
       "<Figure size 432x288 with 1 Axes>"
      ]
     },
     "metadata": {
      "needs_background": "light"
     },
     "output_type": "display_data"
    }
   ],
   "source": [
    "MU=10\n",
    "x = poisson.rvs(mu=MU, size=10000)\n",
    "n,bins,patches = plt.hist(x, density=True, edgecolor='black') #Define bin using arange on min max\n",
    "print(n)\n",
    "\n",
    "x = np.linspace(min(bins),max(bins),len(n))\n",
    "print(x)\n",
    "\n",
    "def Gaussian(x, mean, std):\n",
    "    return (1/(std*(2*np.pi)**0.5))*np.exp(-(x-mean)**2/(2* std**2))\n",
    "\n",
    "popt,pcov = optimize.curve_fit(Gaussian,xdata=x, ydata=n,p0=[MU,1])\n",
    "print(popt)\n",
    "perr = np.sqrt(np.diag(pcov))\n",
    "print(perr)\n",
    "x = np.linspace(min(bins),max(bins),2000)\n",
    "plt.plot(x,Gaussian(x,popt[0],popt[1]),label='Gaussian Distribution')"
   ]
  },
  {
   "cell_type": "code",
   "execution_count": 107,
   "metadata": {},
   "outputs": [
    {
     "name": "stdout",
     "output_type": "stream",
     "text": [
      "[0.00456522 0.02473913 0.0656087  0.15965217 0.08947826 0.0526087\n",
      " 0.03147826 0.00521739 0.00117391 0.00026087]\n"
     ]
    }
   ],
   "source": [
    "print(n)"
   ]
  }
 ],
 "metadata": {
  "interpreter": {
   "hash": "0846ac5b3df1612f9c3cf6a570e97dcd9e3575367cc1896f1ea1ab9b3fc8d4ea"
  },
  "kernelspec": {
   "display_name": "Python 3.9.10 64-bit (windows store)",
   "language": "python",
   "name": "python3"
  },
  "language_info": {
   "codemirror_mode": {
    "name": "ipython",
    "version": 3
   },
   "file_extension": ".py",
   "mimetype": "text/x-python",
   "name": "python",
   "nbconvert_exporter": "python",
   "pygments_lexer": "ipython3",
   "version": "3.9.10"
  },
  "orig_nbformat": 4
 },
 "nbformat": 4,
 "nbformat_minor": 2
}
