{
 "cells": [
  {
   "cell_type": "code",
   "execution_count": 40,
   "metadata": {},
   "outputs": [],
   "source": [
    "import uncertainties as unc  \n",
    "import uncertainties.unumpy as unumpy  \n",
    "import numpy as np\n",
    "import matplotlib.pyplot as plt\n",
    "import scipy.optimize as optimize"
   ]
  },
  {
   "cell_type": "code",
   "execution_count": 41,
   "metadata": {},
   "outputs": [
    {
     "name": "stdout",
     "output_type": "stream",
     "text": [
      "[array([80.65+/-0.01, 76.65+/-0.01, 74.2+/-0.01, 72.5+/-0.01, 69.9+/-0.01,\n",
      "       67.9+/-0.01, 66.2+/-0.01, 61.9+/-0.01, 59.9+/-0.01, 57.1+/-0.01,\n",
      "       55.1+/-0.01, 52.2+/-0.01, 48.55+/-0.01, 46.9+/-0.01], dtype=object), array([17.4+/-0.1, 20.9+/-0.1, 23.0+/-0.1, 24.6+/-0.1, 26.8+/-0.1,\n",
      "       28.55+/-0.1, 30.05+/-0.1, 33.85+/-0.1, 35.6+/-0.1, 38.05+/-0.1,\n",
      "       39.8+/-0.1, 42.35+/-0.1, 45.5+/-0.1, 46.9+/-0.1], dtype=object), array([329.14+/-0.01, 339.43+/-0.01, 344.13+/-0.01, 347.02+/-0.01,\n",
      "       350.79+/-0.01, 353.54+/-0.01, 355.62+/-0.01, 360.51+/-0.01,\n",
      "       362.36+/-0.01, 364.89+/-0.01, 366.66+/-0.01, 369.0+/-0.01,\n",
      "       371.87+/-0.01, 372.91+/-0.01], dtype=object), array([76.28+/-0.01, nan+/-0.01, nan+/-0.01, nan+/-0.01, nan+/-0.01,\n",
      "       nan+/-0.01, nan+/-0.01, nan+/-0.01, nan+/-0.01, nan+/-0.01,\n",
      "       nan+/-0.01, nan+/-0.01, nan+/-0.01, nan+/-0.01], dtype=object)]\n",
      "[array([272.7+/-0.1, 292.28+/-0.1, 372.16+/-0.1], dtype=object), array([273.15+/-0.01, 293.15+/-0.01, 373.15+/-0.01], dtype=object)]\n"
     ]
    }
   ],
   "source": [
    "data = []\n",
    "error = [0.01,0.1,0.01,0.01]\n",
    "j=0\n",
    "while j<4:\n",
    "    collumn = np.genfromtxt(\"Latent_heat_vaporization_data.csv\", delimiter=\",\", usecols=(j), skip_header=2)\n",
    "    collumn = unumpy.uarray(collumn, std_devs = error[j])\n",
    "    data.append(collumn)\n",
    "    j+=1\n",
    "\n",
    "print(data)\n",
    "\n",
    "calibration = []\n",
    "error = [0.1,0.01]\n",
    "j=0\n",
    "while j<2:\n",
    "    collumn = np.genfromtxt(\"Temp_Calibration.csv\", delimiter=\",\", usecols=(j), skip_header=1)\n",
    "    collumn = unumpy.uarray(collumn, std_devs = error[j])\n",
    "    calibration.append(collumn)\n",
    "    j+=1\n",
    "\n",
    "print(calibration)"
   ]
  },
  {
   "cell_type": "code",
   "execution_count": 42,
   "metadata": {},
   "outputs": [
    {
     "name": "stdout",
     "output_type": "stream",
     "text": [
      "[-4941.08172063    17.58478566]\n",
      "[11.72212318  0.03214709]\n",
      "------------------------------\n",
      "Chi Square value:\n",
      "22.779844777336674\n",
      "Expected value\n",
      "12\n",
      "Minimum Chi-Square for a good fit\n",
      "2.2020410288672885\n",
      "Maximum Chi-Square for a good fit\n",
      "21.79795897113271\n",
      "Doubtful minimum Chi-Square for a good fit\n",
      "-2.6969384566990673\n",
      "Doubtful maximum Chi-Square for a good fit\n",
      "26.696938456699066\n",
      "------------------------------\n"
     ]
    },
    {
     "data": {
      "image/png": "[encoded data removed]",
      "text/plain": [
       "<Figure size 576x576 with 2 Axes>"
      ]
     },
     "metadata": {
      "needs_background": "light"
     },
     "output_type": "display_data"
    }
   ],
   "source": [
    "plt.figure(figsize=(8, 8))\n",
    "plt.subplot(2,1,1)\n",
    "y=unumpy.log(data[3][0] - (data[0]-data[1]))\n",
    "x=1/data[2]\n",
    "plt.errorbar(unumpy.nominal_values(x),unumpy.nominal_values(y),xerr=unumpy.std_devs(x),yerr=unumpy.std_devs(y),fmt='o',label='data')\n",
    "def f(x,a,b):\n",
    "    return a*x + b\n",
    "popt,pcov = optimize.curve_fit(f,xdata=unumpy.nominal_values(x), ydata=unumpy.nominal_values(y), sigma=(unumpy.std_devs(y)), p0=[-1,4])\n",
    "print(popt)\n",
    "perr = np.sqrt(np.diag(pcov))\n",
    "print(perr)\n",
    "\n",
    "plt.plot(unumpy.nominal_values(x), f(unumpy.nominal_values(x),*popt), 'r--',label='Linearized fit')\n",
    "\n",
    "plt.title('TITLE')\n",
    "plt.legend()\n",
    "plt.xlabel('1/T')\n",
    "plt.ylabel('ln(P)')\n",
    "\n",
    "plt.subplot(2,1,2)\n",
    "plt.plot(unumpy.nominal_values(x), unumpy.nominal_values(y)-(f(unumpy.nominal_values(x),*popt)), 'o')\n",
    "\n",
    "print('-'*30)\n",
    "\n",
    "f_degree = len(x)-2\n",
    "print('Chi Square value:')\n",
    "print(sum( ( (unumpy.nominal_values(y)-(f(unumpy.nominal_values(x),*popt))) / unumpy.std_devs(y))**2 ) )\n",
    "print('Expected value')\n",
    "print(f_degree)\n",
    "print('Minimum Chi-Square for a good fit')\n",
    "print(f_degree - 2* (2*f_degree)**0.5)\n",
    "print('Maximum Chi-Square for a good fit')\n",
    "print(f_degree + 2* (2*f_degree)**0.5)\n",
    "\n",
    "print('Doubtful minimum Chi-Square for a good fit')\n",
    "print(f_degree - 3* (2*f_degree)**0.5)\n",
    "print('Doubtful maximum Chi-Square for a good fit')\n",
    "print(f_degree + 3* (2*f_degree)**0.5)\n",
    "print('-'*30)\n",
    "\n",
    "plt.show\n",
    "plt.savefig('combined')"
   ]
  }
 ],
 "metadata": {
  "interpreter": {
   "hash": "0846ac5b3df1612f9c3cf6a570e97dcd9e3575367cc1896f1ea1ab9b3fc8d4ea"
  },
  "kernelspec": {
   "display_name": "Python 3.9.10 64-bit (windows store)",
   "language": "python",
   "name": "python3"
  },
  "language_info": {
   "codemirror_mode": {
    "name": "ipython",
    "version": 3
   },
   "file_extension": ".py",
   "mimetype": "text/x-python",
   "name": "python",
   "nbconvert_exporter": "python",
   "pygments_lexer": "ipython3",
   "version": "3.9.10"
  },
  "orig_nbformat": 4
 },
 "nbformat": 4,
 "nbformat_minor": 2
}
