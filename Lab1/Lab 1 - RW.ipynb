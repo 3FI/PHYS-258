{
 "cells": [
  {
   "cell_type": "code",
   "execution_count": 1,
   "id": "47eaa4e1",
   "metadata": {},
   "outputs": [],
   "source": [
    "import uncertainties as unc  \n",
    "import uncertainties.unumpy as unumpy  \n",
    "import numpy as np\n",
    "import matplotlib.pyplot as plt\n",
    "#%matplotlib notebook "
   ]
  },
  {
   "cell_type": "markdown",
   "id": "36da57dd",
   "metadata": {},
   "source": [
    "# -----------------  Ruchardt's Method -----------------"
   ]
  },
  {
   "cell_type": "code",
   "execution_count": 2,
   "id": "db4ac31a",
   "metadata": {},
   "outputs": [
    {
     "name": "stdout",
     "output_type": "stream",
     "text": [
      ">>>>>> Gamma from the Ruchardt's method 1.344+/-0.014\n",
      "1.3333333333333333\n"
     ]
    }
   ],
   "source": [
    "# Ruchardt's find tao \n",
    "# [i, n, first min, last min]\n",
    "manual= [[0, 8, 1.0593, 9.6293],\n",
    "         [1, 8, 0.9784, 9.5937],\n",
    "         [2, 8, 0.9973, 9.6512],\n",
    "         [3, 8, 0.9496, 9.5381],\n",
    "         [4, 7, 1.0290, 8.5861],\n",
    "         [5, 8, 0.8351, 9.4007],\n",
    "         [6, 8, 0.7371, 9.4248],\n",
    "         [7, 8, 0.6491, 9.3212],\n",
    "         [8, 8, 0.8587, 9.4592],\n",
    "         [9, 8, 0.7458, 9.4060]]\n",
    "tao_a = []\n",
    "for set in manual: \n",
    "    tao_a.append((set[3]-set[2])/set[1])\n",
    "    \n",
    "tao_a = np.array(tao_a)\n",
    "mean_tao = np.mean(tao_a)\n",
    "std_tao = np.std(tao_a, ddof= 1)\n",
    "\n",
    "tao = unc.ufloat(round(mean_tao, 3), round(std_tao, 3))\n",
    "# print(tao)\n",
    "\n",
    "#  Ruchardt's find P \n",
    "P_0 = unc.ufloat(101.6 *1000  , 0.2* 1000 ) #pa \n",
    "m = unc.ufloat(17.622 * 0.001, 0.001 * 0.001) #kg\n",
    "d_tube = unc.ufloat(16.00 * 0.001 ,  0.02 * 0.001 )#m\n",
    "V = unc.ufloat (9.3008 * 0.001,  0.008 * 0.001) # m^3\n",
    "g = 9.81 \n",
    "\n",
    "A = (1/4) * np.pi * (d_tube**2) # m^2\n",
    "p_cylinder = (m*g/A) # kg/(m s^2) = pa  \n",
    "P = P_0 + p_cylinder # pa \n",
    "\n",
    "\n",
    "gamma = (4 * np.pi**2 * m * V)/ (A**2 * P * tao**2)\n",
    "print(\">>>>>> Gamma from the Ruchardt's method\", gamma)\n",
    "print(4/3)"
   ]
  },
  {
   "cell_type": "code",
   "execution_count": 48,
   "id": "b8e597c5",
   "metadata": {},
   "outputs": [
    {
     "name": "stdout",
     "output_type": "stream",
     "text": [
      "Argon =  1.50+/-0.05\n",
      "\t 1.6666666666666667\n",
      "\n",
      "CO2 =  1.240+/-0.019\n",
      "\t 1.3333333333333333\n",
      "\n",
      "N2 =  1.240+/-0.016\n",
      "\t 1.4\n",
      "\n",
      "Air =  1.301+/-0.018\n",
      "\t 1.3333333333333333\n",
      "\n"
     ]
    }
   ],
   "source": [
    "# ar = 0, co2 = 1, n_2 = 2, air = 3 \n",
    "def get_means(data): \n",
    "    ar, co2, n_2, air  = [], [], [], []    \n",
    "    for line in data:\n",
    "        if line[0] == 0:\n",
    "            ar.append(unc.ufloat(line[1], line[2]))\n",
    "        elif line[0] == 1: \n",
    "            co2.append(unc.ufloat(line[1], line[2]))\n",
    "        elif line[0] == 2:\n",
    "            n_2.append(unc.ufloat(line[1], line[2]))\n",
    "        elif line[0] == 3:\n",
    "            air.append(unc.ufloat(line[1], line[2]))\n",
    "    ar = np.mean(np.array(ar))\n",
    "    co2 = np.mean(np.array(co2))\n",
    "    n_2 = np.mean(np.array (n_2))\n",
    "    air = np.mean(np.array(air))\n",
    "    return ([ar, co2, n_2, air])\n",
    "    \n",
    "\n",
    "data_m = np.genfromtxt(\"Monday Section.csv\", delimiter=\",\", skip_header=2)\n",
    "data_t = np.genfromtxt(\"Tuesday Section.csv\", delimiter=\",\", skip_header=2)\n",
    "data_w = np.genfromtxt(\"Wednesday Section.csv\", delimiter=\",\", skip_header=2)\n",
    "data_r = np.genfromtxt(\"Thursday Section.csv\", delimiter=\",\", skip_header=2)\n",
    "\n",
    "m = get_means(data_m) # means of [ar, co2, n_2, air]\n",
    "t = get_means(data_t)\n",
    "w = get_means(data_w)\n",
    "r = get_means(data_r)\n",
    "\n",
    "gamma = []\n",
    "for i in range(4): \n",
    "    l = np.array([m[i], t[i], w[i], r[i]])\n",
    "    gamma.append(np.mean(l))\n",
    "    \n",
    "#print(gamma)\n",
    "order = [\"Argon = \", \"CO2 = \", \"N2 = \", \"Air = \"]\n",
    "expected = [5/3, 4/3, 7/5, 4/3] # mono, poly, dio, poly \n",
    "for i in range(4):\n",
    "    print(order[i], gamma[i])\n",
    "    print(\"\\t\", expected[i])\n",
    "    print()"
   ]
  },
  {
   "cell_type": "code",
   "execution_count": null,
   "id": "ab3af974",
   "metadata": {},
   "outputs": [],
   "source": []
  }
 ],
 "metadata": {
  "kernelspec": {
   "display_name": "Python 3 (ipykernel)",
   "language": "python",
   "name": "python3"
  },
  "language_info": {
   "codemirror_mode": {
    "name": "ipython",
    "version": 3
   },
   "file_extension": ".py",
   "mimetype": "text/x-python",
   "name": "python",
   "nbconvert_exporter": "python",
   "pygments_lexer": "ipython3",
   "version": "3.9.7"
  }
 },
 "nbformat": 4,
 "nbformat_minor": 5
}
