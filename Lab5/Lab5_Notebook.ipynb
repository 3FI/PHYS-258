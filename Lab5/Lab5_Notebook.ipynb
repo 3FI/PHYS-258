{
 "cells": [
  {
   "cell_type": "code",
   "execution_count": 5,
   "metadata": {},
   "outputs": [
    {
     "name": "stdout",
     "output_type": "stream",
     "text": [
      "real value of Plank is 6.62607004e-34\n",
      "average value of Plank is 6.2964051773436475e-34\n"
     ]
    }
   ],
   "source": [
    "import numpy as np\n",
    "\n",
    "wavelength = [629.14, 633.88, 607.54, 589.63, 565.31, 524.58, 458.42, 395.67, 588.46 ] #nm\n",
    "color =      [ \"R\" ,   \"P\" ,   \"O\",   \"Y\" ,   \"YG\"  , \"G\"   ,  \"B\" ,  \"UV\",  \"WW\" ]\n",
    "voltage  =   [1.714, 2.504 , 1.734 ,   1.722 , 1.717, 2.180, 2.513, 2.876, 2.489  ]\n",
    "\n",
    "Plank=6.62607004 * 10**(-34) #m**2 kg / s\n",
    "Speed_Light=299792458 #m/s\n",
    "e = 1.6022*10**(-19)\n",
    "\n",
    "e_over_c = e/Speed_Light\n",
    "h = []\n",
    "for i in range(len(voltage)):\n",
    "    wavelength_m = wavelength[i] * 10**(-9)\n",
    "    h.append(e_over_c * wavelength_m* voltage[i])\n",
    "h_avg = (np.mean(h))\n",
    "print(\"real value of Plank is\", Plank)\n",
    "print(\"average value of Plank is\", h_avg)\n",
    "\n"
   ]
  },
  {
   "cell_type": "code",
   "execution_count": null,
   "metadata": {},
   "outputs": [],
   "source": []
  }
 ],
 "metadata": {
  "interpreter": {
   "hash": "0846ac5b3df1612f9c3cf6a570e97dcd9e3575367cc1896f1ea1ab9b3fc8d4ea"
  },
  "kernelspec": {
   "display_name": "Python 3.9.10 64-bit (windows store)",
   "language": "python",
   "name": "python3"
  },
  "language_info": {
   "codemirror_mode": {
    "name": "ipython",
    "version": 3
   },
   "file_extension": ".py",
   "mimetype": "text/x-python",
   "name": "python",
   "nbconvert_exporter": "python",
   "pygments_lexer": "ipython3",
   "version": "3.9.10"
  },
  "orig_nbformat": 4
 },
 "nbformat": 4,
 "nbformat_minor": 2
}
