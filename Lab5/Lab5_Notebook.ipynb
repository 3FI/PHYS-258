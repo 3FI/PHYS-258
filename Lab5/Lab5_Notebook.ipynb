{
 "cells": [
  {
   "cell_type": "code",
   "execution_count": 9,
   "metadata": {},
   "outputs": [],
   "source": [
    "import uncertainties as unc  \n",
    "import uncertainties.unumpy as unumpy  \n",
    "import numpy as np\n",
    "import matplotlib.pyplot as plt\n",
    "import scipy.optimize as optimize"
   ]
  },
  {
   "cell_type": "code",
   "execution_count": 10,
   "metadata": {},
   "outputs": [
    {
     "name": "stdout",
     "output_type": "stream",
     "text": [
      "[5.763073256205798e-34+/-3.363600680269511e-37, 8.482764266684789e-34+/-3.3903275650822164e-37, 5.630150374203211e-34+/-3.2482370754858986e-37, 5.426361760881923e-34+/-3.152540875593919e-37, 5.1874388180706e-34+/-3.022615595518844e-37, 6.11173122200426e-34+/-2.8059662345120436e-37, 6.15675780880385e-34+/-2.4536417362117046e-37, 6.081602477217757e-34+/-2.120183243754657e-37, 7.827766612020642e-34+/-3.1477563318452864e-37]\n",
      "real value of Plank is 6.62607004e-34\n",
      "average value of Plank is (6.3+/-1.1)e-34\n"
     ]
    }
   ],
   "source": [
    "import numpy as np\n",
    "\n",
    "wavelength = np.array([629.14, 633.88, 607.54, 589.63, 565.31, 524.58, 458.42, 395.67, 588.46 ]) #nm\n",
    "#wavelength = np.array([629.14, 607.54, 524.58, 458.42, 395.67]) #nm\n",
    "\n",
    "wavelength = unumpy.uarray(wavelength, std_devs = 0.01)\n",
    "color =      [ \"R\" ,   \"P\" ,   \"O\",   \"Y\" ,   \"YG\"  , \"G\"   ,  \"B\" ,  \"UV\",  \"WW\" ]\n",
    "rcolor = ['r','m','k', 'y', 'c',  'g', 'b', 'k', 'w' ]\n",
    "voltage  =   np.array([1.714, 2.504 , 1.734 ,   1.722 , 1.717, 2.180, 2.513, 2.876, 2.489  ])\n",
    "#voltage  =   np.array([1.714, 1.734 , 2.180, 2.513, 2.876 ])\n",
    "voltage = unumpy.uarray(voltage, std_devs = 0.001)\n",
    "\n",
    "Plank=6.62607004 * 10**(-34) #m**2 kg / s\n",
    "Speed_Light=299792458 #m/s\n",
    "e = 1.6022*10**(-19)\n",
    "\n",
    "e_over_c = e/Speed_Light\n",
    "h = []\n",
    "for i in range(len(voltage)):\n",
    "    wavelength_m = wavelength[i] * 10**(-9)\n",
    "    h.append(e_over_c * wavelength_m* voltage[i])\n",
    "    \n",
    "print(h)\n",
    "\n",
    "wmean = (np.average( unumpy.nominal_values(h), weights = unumpy.std_devs(h) ))\n",
    "werror = ((1/(len(h) - 1) * sum ( (unumpy.nominal_values(h)-wmean)**2) )**0.5)\n",
    "h_avg = unc.ufloat(wmean,werror)\n",
    "\n",
    "print(\"real value of Plank is\", Plank)\n",
    "print(\"average value of Plank is\", h_avg)\n",
    "\n"
   ]
  },
  {
   "cell_type": "code",
   "execution_count": 11,
   "metadata": {},
   "outputs": [
    {
     "name": "stdout",
     "output_type": "stream",
     "text": [
      "[6.23368731e-16]\n",
      "[3.27881324e-17]\n"
     ]
    },
    {
     "data": {
      "image/png": "[encoded data removed]",
      "text/plain": [
       "<Figure size 432x288 with 1 Axes>"
      ]
     },
     "metadata": {
      "needs_background": "light"
     },
     "output_type": "display_data"
    },
    {
     "name": "stdout",
     "output_type": "stream",
     "text": [
      "Chi Square value:\n",
      "945430.8141459349\n",
      "Expected value\n",
      "7\n",
      "Minimum Chi-Square for a good fit\n",
      "-0.48331477354788266\n",
      "Maximum Chi-Square for a good fit\n",
      "14.483314773547882\n",
      "Doubtful minimum Chi-Square for a good fit\n",
      "-4.224972160321824\n",
      "Doubtful maximum Chi-Square for a good fit\n",
      "18.224972160321826\n",
      "------------------------------\n"
     ]
    }
   ],
   "source": [
    "x=Speed_Light/wavelength*10**(-9)\n",
    "y=e*voltage\n",
    "plt.errorbar( unumpy.nominal_values(x) , unumpy.nominal_values(y), xerr=unumpy.std_devs(x), yerr=unumpy.std_devs(y), fmt=\"o\", label='data')\n",
    "\n",
    "def f(x,a):\n",
    "    return a*x\n",
    "popt,pcov = optimize.curve_fit(f,xdata=unumpy.nominal_values(x), ydata=unumpy.nominal_values(y), sigma=(unumpy.std_devs(y)))\n",
    "print(popt)\n",
    "perr = np.sqrt(np.diag(pcov))\n",
    "print(perr)\n",
    "\n",
    "plt.plot(unumpy.nominal_values(x), f(unumpy.nominal_values(x),*popt), 'r--',label='Linearized fit')\n",
    "\n",
    "plt.legend()\n",
    "plt.show()\n",
    "\n",
    "f_degree = len(wavelength)-2\n",
    "print('Chi Square value:')\n",
    "print(sum( ( (unumpy.nominal_values(y)-(f(unumpy.nominal_values(x),*popt))) / unumpy.std_devs(y))**2 ) )\n",
    "print('Expected value')\n",
    "print(f_degree)\n",
    "print('Minimum Chi-Square for a good fit')\n",
    "print(f_degree - 2* (2*f_degree)**0.5)\n",
    "print('Maximum Chi-Square for a good fit')\n",
    "print(f_degree + 2* (2*f_degree)**0.5)\n",
    "print('Doubtful minimum Chi-Square for a good fit')\n",
    "print(f_degree - 3* (2*f_degree)**0.5)\n",
    "print('Doubtful maximum Chi-Square for a good fit')\n",
    "print(f_degree + 3* (2*f_degree)**0.5)\n",
    "print('-'*30)\n"
   ]
  },
  {
   "cell_type": "code",
   "execution_count": 12,
   "metadata": {},
   "outputs": [
    {
     "data": {
      "image/png": "[encoded data removed]",
      "text/plain": [
       "<Figure size 432x288 with 1 Axes>"
      ]
     },
     "metadata": {
      "needs_background": "light"
     },
     "output_type": "display_data"
    }
   ],
   "source": [
    "for i in [0,1,2,3,4,5,6,7,8] :\n",
    "\n",
    "    x=Speed_Light/wavelength[i]*10**(-9)\n",
    "    y=e*voltage[i]\n",
    "    plt.errorbar( unumpy.nominal_values(x) , unumpy.nominal_values(y), xerr=unumpy.std_devs(x), yerr=unumpy.std_devs(y), fmt=rcolor[i]+'o', label='data')\n"
   ]
  }
 ],
 "metadata": {
  "interpreter": {
   "hash": "0846ac5b3df1612f9c3cf6a570e97dcd9e3575367cc1896f1ea1ab9b3fc8d4ea"
  },
  "kernelspec": {
   "display_name": "Python 3.9.10 64-bit (windows store)",
   "language": "python",
   "name": "python3"
  },
  "language_info": {
   "codemirror_mode": {
    "name": "ipython",
    "version": 3
   },
   "file_extension": ".py",
   "mimetype": "text/x-python",
   "name": "python",
   "nbconvert_exporter": "python",
   "pygments_lexer": "ipython3",
   "version": "3.9.10"
  },
  "orig_nbformat": 4
 },
 "nbformat": 4,
 "nbformat_minor": 2
}
