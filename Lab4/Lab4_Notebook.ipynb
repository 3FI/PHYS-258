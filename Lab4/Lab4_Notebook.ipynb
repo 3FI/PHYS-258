{
 "cells": [
  {
   "cell_type": "code",
   "execution_count": 3,
   "metadata": {},
   "outputs": [],
   "source": [
    "import uncertainties as unc  \n",
    "import uncertainties.unumpy as unumpy  \n",
    "import numpy as np\n",
    "import matplotlib.pyplot as plt\n",
    "import scipy.optimize as optimize"
   ]
  },
  {
   "cell_type": "code",
   "execution_count": 4,
   "metadata": {},
   "outputs": [
    {
     "name": "stdout",
     "output_type": "stream",
     "text": [
      "[array([11.2+/-0.2, 11.7+/-0.2, 11.5+/-0.2, 11.4+/-0.2], dtype=object), array([11.8+/-0.2, 11.5+/-0.2, 12.1+/-0.2, 11.3+/-0.2], dtype=object)]\n",
      "[array([9.7+/-0.2, 11.5+/-0.2, 11.2+/-0.2, 11.9+/-0.2], dtype=object), array([11.9+/-0.2, 12.1+/-0.2, 11.5+/-0.2, 11.7+/-0.2], dtype=object)]\n",
      "[array([11.6+/-0.2, 10.2+/-0.2, 10.7+/-0.2, 11.2+/-0.2], dtype=object), array([11.9+/-0.2, 11.4+/-0.2, 11.2+/-0.2, 11.8+/-0.2], dtype=object)]\n"
     ]
    }
   ],
   "source": [
    "for P in [\"P1\",\"P2\",\"P3\"]:\n",
    "    globals()['diff_data_'+P] = []\n",
    "    error = [0.2,0.2]\n",
    "    j=0\n",
    "    for j in [1,3]:\n",
    "        collumn = np.genfromtxt(P+\".csv\", delimiter=\",\", usecols=(j), skip_header=1, skip_footer=1)\n",
    "        collumn = unumpy.uarray(collumn, std_devs = error[int(j/2)])\n",
    "        globals()['diff_data_'+P].append(collumn)\n",
    "    print(globals()['diff_data_'+P])"
   ]
  },
  {
   "cell_type": "code",
   "execution_count": 5,
   "metadata": {},
   "outputs": [
    {
     "name": "stdout",
     "output_type": "stream",
     "text": [
      "mean_0_diff_data_P1 : 11.45+/-0.21\n",
      "mean_1_diff_data_P1 : 11.67+/-0.35\n",
      "mean_0_diff_data_P2 : 11.1+/-1.0\n",
      "mean_1_diff_data_P2 : 11.80+/-0.26\n",
      "mean_0_diff_data_P3 : 10.9+/-0.6\n",
      "mean_1_diff_data_P3 : 11.58+/-0.33\n"
     ]
    }
   ],
   "source": [
    "mean_Volt_Array=[]\n",
    "std_Volt_Array=[]\n",
    "for P in [\"diff_data_P1\",\"diff_data_P2\",\"diff_data_P3\"] :\n",
    "    for i in [0,1]:\n",
    "        wmean = (np.average( unumpy.nominal_values(globals()[P][i]), weights = unumpy.std_devs(globals()[P][i]) ))\n",
    "        werror = ((1/(len(globals()[P][i]) - 1) * sum ( (unumpy.nominal_values(globals()[P][i])-wmean)**2) )**0.5)\n",
    "        mean_Volt_Array.append(wmean)\n",
    "        std_Volt_Array.append(werror)\n",
    "        globals()['mean_'+ str(i) + '_' + P] = unc.ufloat(wmean,werror)\n",
    "        print('mean_'+ str(i) + '_'  + P + \" : \" + str(globals()['mean_'+ str(i) + '_' + P]))"
   ]
  },
  {
   "cell_type": "code",
   "execution_count": 6,
   "metadata": {},
   "outputs": [
    {
     "data": {
      "image/png": "[encoded data removed]",
      "text/plain": [
       "<Figure size 432x432 with 1 Axes>"
      ]
     },
     "metadata": {
      "needs_background": "light"
     },
     "output_type": "display_data"
    }
   ],
   "source": [
    "plt.figure(figsize=(6, 6))\n",
    "y=[unumpy.nominal_values(globals()['mean_0_diff_data_P1']),unumpy.nominal_values(globals()['mean_0_diff_data_P2']),unumpy.nominal_values(globals()['mean_0_diff_data_P3'])]\n",
    "y_err=[unumpy.std_devs(globals()['mean_0_diff_data_P1']),unumpy.std_devs(globals()['mean_0_diff_data_P2']),unumpy.std_devs(globals()['mean_0_diff_data_P3'])]\n",
    "plt.errorbar([1,2,3],y,yerr=y_err,fmt='o',label='Peak',capsize=10)\n",
    "y=[unumpy.nominal_values(globals()['mean_1_diff_data_P1']),unumpy.nominal_values(globals()['mean_1_diff_data_P2']),unumpy.nominal_values(globals()['mean_1_diff_data_P3'])]\n",
    "y_err=[unumpy.std_devs(globals()['mean_1_diff_data_P1']),unumpy.std_devs(globals()['mean_1_diff_data_P2']),unumpy.std_devs(globals()['mean_1_diff_data_P3'])]\n",
    "figure = plt.gca()\n",
    "plt.errorbar([1,2,3],y,yerr=y_err,fmt='o',label='Trough',capsize=10)\n",
    "x_axis = figure.axes.get_xaxis()\n",
    "x_axis.set_visible(False)\n",
    "plt.title('''Mean of the difference between peak or \n",
    "trough for each experimental setup (V1 - V2 - VH)''')\n",
    "plt.legend(loc='lower left')\n",
    "plt.text(0.9,9.9,'1.5V - 9.5V - 2V')\n",
    "plt.text(1.7,9.9,'1.5V - 10.5V - 2V')\n",
    "plt.text(2.5,9.9,'1.5V - 9.5V - 2.5V')\n",
    "plt.ylabel('Voltage difference (V)')\n",
    "plt.savefig('Plot1')\n",
    "plt.show()"
   ]
  },
  {
   "cell_type": "code",
   "execution_count": 7,
   "metadata": {},
   "outputs": [
    {
     "name": "stdout",
     "output_type": "stream",
     "text": [
      "11.3+/-0.4\n"
     ]
    }
   ],
   "source": [
    "Plank=6.62607004 * 10**(-34) #m**2 kg / s\n",
    "Argon_Energy=11.3 #eV = 1,6022e-19J (m^2 kg / s^2) \n",
    "Speed_Light=299792458 #m/s\n",
    "Argon_Wavelength = 104.8 #nm\n",
    "\n",
    "mean_Volt = (np.average( mean_Volt_Array, weights = std_Volt_Array ))\n",
    "std_Volt = ((1/(len(mean_Volt_Array) - 1) * sum ( (mean_Volt_Array-mean_Volt)**2) )**0.5)\n",
    "Volt = unc.ufloat(mean_Volt,std_Volt)\n",
    "print(Volt)"
   ]
  },
  {
   "cell_type": "code",
   "execution_count": 8,
   "metadata": {},
   "outputs": [
    {
     "name": "stdout",
     "output_type": "stream",
     "text": [
      "8.138991661410485e-21\n"
     ]
    }
   ],
   "source": [
    "#E = h c/l\n",
    "#h = E/c *l\n",
    "#l = hc/E\n",
    "print((Volt*1.6022*10**(-19)) * (108*10**-9) / Speed_Light)"
   ]
  }
 ],
 "metadata": {
  "interpreter": {
   "hash": "0846ac5b3df1612f9c3cf6a570e97dcd9e3575367cc1896f1ea1ab9b3fc8d4ea"
  },
  "kernelspec": {
   "display_name": "Python 3.9.10 64-bit (windows store)",
   "language": "python",
   "name": "python3"
  },
  "language_info": {
   "codemirror_mode": {
    "name": "ipython",
    "version": 3
   },
   "file_extension": ".py",
   "mimetype": "text/x-python",
   "name": "python",
   "nbconvert_exporter": "python",
   "pygments_lexer": "ipython3",
   "version": "3.9.10"
  },
  "orig_nbformat": 4
 },
 "nbformat": 4,
 "nbformat_minor": 2
}
